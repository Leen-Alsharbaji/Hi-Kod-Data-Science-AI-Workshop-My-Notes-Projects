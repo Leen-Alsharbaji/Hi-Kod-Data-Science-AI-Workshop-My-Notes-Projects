{
  "cells": [
    {
      "cell_type": "markdown",
      "metadata": {
        "id": "view-in-github",
        "colab_type": "text"
      },
      "source": [
        "<a href=\"https://colab.research.google.com/github/Leen-Alsharbaji/Hi-Kod-Data-Science-AI-Workshop-My-Notes-Projects/blob/main/Kosul_dongu_odev.ipynb\" target=\"_parent\"><img src=\"https://colab.research.google.com/assets/colab-badge.svg\" alt=\"Open In Colab\"/></a>"
      ]
    },
    {
      "cell_type": "markdown",
      "id": "409f0f4a",
      "metadata": {
        "id": "409f0f4a"
      },
      "source": [
        "**Ödev-1:** Kullanıcıdan maaş bilgisini istenir ve bu bilgiye göre maaşından ne kadar vergi kesileceğini hesaplanır. Kullanıcının geliri;\n",
        "\n",
        "1. 10000 ve altındaysa maaşından %5 kesinti olur.\n",
        "2. 25000 ve altındaysa maaşından %10 kesinti olur.\n",
        "3. 45000 ve altındaysa maaşından %25 kesinti olur.\n",
        "4. Diğer koşullarda %30 kesinti olur.\n",
        "\n",
        "Bu durumlara göre kullanıcının yeni maaşı yazdırılır."
      ]
    },
    {
      "cell_type": "code",
      "execution_count": 1,
      "id": "5246e510",
      "metadata": {
        "id": "5246e510",
        "outputId": "013875ad-20e5-435b-c815-51a0023d9237",
        "colab": {
          "base_uri": "https://localhost:8080/"
        }
      },
      "outputs": [
        {
          "output_type": "stream",
          "name": "stdout",
          "text": [
            "maasinizi giriniz250000\n",
            "175000.0\n"
          ]
        }
      ],
      "source": [
        "a = input(\"maasinizi giriniz\")\n",
        "\n",
        "if int(a) <= 10000:\n",
        "  print(int(a)*0.95)\n",
        "\n",
        "elif int(a) <= 25000:\n",
        "  print(int(a)*0.90)\n",
        "\n",
        "elif int(a) <= 45000:\n",
        "\n",
        "  print(int(a)*0.75)\n",
        "\n",
        "else:\n",
        "  print(int(a)*0.70)"
      ]
    },
    {
      "cell_type": "markdown",
      "id": "f5fe8798",
      "metadata": {
        "id": "f5fe8798"
      },
      "source": [
        "**Ödev-2:** Kullanıcıdan kullanıcı adı ve şifre oluşturmasını istenir. Şifrenin uzunluğu altı haneye ulaşmışsa hesabınız oluşturuldu mesajı alınır, altı haneden azsa altı haneli şifre oluşturması gerektiğinin mesajı alınır. *(Sadece koşul kullanılması yeterli.)*"
      ]
    },
    {
      "cell_type": "code",
      "execution_count": 6,
      "id": "6acffe57",
      "metadata": {
        "id": "6acffe57",
        "outputId": "c97868d2-e00e-4be1-8e7e-104f1298a20a",
        "colab": {
          "base_uri": "https://localhost:8080/"
        }
      },
      "outputs": [
        {
          "output_type": "stream",
          "name": "stdout",
          "text": [
            "sifre girinizorfokrffjnr\n",
            "1\n",
            "2\n",
            "3\n",
            "4\n",
            "5\n",
            "6\n",
            "7\n",
            "8\n",
            "9\n",
            "10\n",
            "11\n",
            "hesabiniz olusturuldu\n"
          ]
        }
      ],
      "source": [
        "sifre= input(\"sifre giriniz\")\n",
        "a=0\n",
        "\n",
        "for i in sifre:\n",
        "  a+=1\n",
        "\n",
        "  print(a)\n",
        "\n",
        "if a<=6:\n",
        "  print(\"sifre 6 haneli olmali\")\n",
        "else:\n",
        "  print(\"hesabiniz olusturuldu\")\n"
      ]
    },
    {
      "cell_type": "markdown",
      "id": "aaccf11a",
      "metadata": {
        "id": "aaccf11a"
      },
      "source": [
        "**Ödev-3:** Bir önceki örnek geliştirilir.\n",
        "\n",
        "1. Kullanıcı girdiği şifre 5 ve 10 hane arasında olmak zorunda.\n",
        "2. Eğer bu koşula uyuyorsa \"Hesabınız oluşturuldu.\" mesajı alır.\n",
        "3. Koşulu sağlamıyorsa \"Lütfen girdiniz şifre 5 haneden az 10 haneden fazla olmasın!\" uyarısı alır.\n",
        "4. Bunu oluştururken kullanıcı istediğimiz şartlarda şifre oluşturana kadar sormaya devam eder"
      ]
    },
    {
      "cell_type": "code",
      "execution_count": 9,
      "id": "039e50dc",
      "metadata": {
        "id": "039e50dc",
        "outputId": "b08781ec-da53-465d-ddb4-262189c1cf2b",
        "colab": {
          "base_uri": "https://localhost:8080/"
        }
      },
      "outputs": [
        {
          "output_type": "stream",
          "name": "stdout",
          "text": [
            "sifre girinizokroktokr\n",
            "1\n",
            "2\n",
            "3\n",
            "4\n",
            "5\n",
            "6\n",
            "7\n",
            "8\n",
            "9\n",
            "hesabiniz olusturuldu\n"
          ]
        }
      ],
      "source": [
        "sifre= input(\"sifre giriniz\")\n",
        "a=0\n",
        "\n",
        "for i in sifre:\n",
        "  a+=1\n",
        "\n",
        "  print(a)\n",
        "\n",
        "if a<=5:\n",
        "  print(\"sifre 5ten yuksek olmali\")\n",
        "elif a>=10:\n",
        "  print(\"sifre 10 haneden az olamli \")\n",
        "else:\n",
        "  print(\"hesabiniz olusturuldu\")"
      ]
    },
    {
      "cell_type": "markdown",
      "id": "8ba81863",
      "metadata": {
        "id": "8ba81863"
      },
      "source": [
        "**Ödev-4:** Kullanıcıdan isim ve şifre isteyeceğiz ve şifre girişi için üç hak verilir.\n",
        "\n",
        "1. Eğer önceden tanımlı şifre ile kullanıcıdan gelen şifre aynıysa \"Giriş yapıldı.\" yazar.\n",
        "2. Şifre girişi yanlışsa \"Yanlış şifre girildi!\" uyarısı verilsin ve üç yanlış denemede program biter.\n",
        "3. Tercihe göre kalan hak bilgisi verilir."
      ]
    },
    {
      "cell_type": "code",
      "execution_count": 12,
      "id": "8f45ea0c",
      "metadata": {
        "id": "8f45ea0c",
        "outputId": "8755a2a5-3118-4117-fa34-68b4b84e3a2a",
        "colab": {
          "base_uri": "https://localhost:8080/"
        }
      },
      "outputs": [
        {
          "output_type": "stream",
          "name": "stdout",
          "text": [
            "sifre giriniz : 1234\n",
            "giris yapildi\n"
          ]
        }
      ],
      "source": [
        "sifre = 1234\n",
        "giris =input(\"sifre giriniz : \")\n",
        "\n",
        "if sifre == int(giris):\n",
        "  print(\"giris yapildi\")\n",
        "else:\n",
        "  print(\"yanlis sifre girdiniz\")"
      ]
    }
  ],
  "metadata": {
    "kernelspec": {
      "display_name": "Python 3 (ipykernel)",
      "language": "python",
      "name": "python3"
    },
    "language_info": {
      "codemirror_mode": {
        "name": "ipython",
        "version": 3
      },
      "file_extension": ".py",
      "mimetype": "text/x-python",
      "name": "python",
      "nbconvert_exporter": "python",
      "pygments_lexer": "ipython3",
      "version": "3.9.12"
    },
    "colab": {
      "provenance": [],
      "include_colab_link": true
    }
  },
  "nbformat": 4,
  "nbformat_minor": 5
}