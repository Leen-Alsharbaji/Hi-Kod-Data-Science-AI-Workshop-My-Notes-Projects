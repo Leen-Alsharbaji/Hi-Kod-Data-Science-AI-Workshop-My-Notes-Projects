{
  "cells": [
    {
      "cell_type": "markdown",
      "metadata": {
        "id": "view-in-github",
        "colab_type": "text"
      },
      "source": [
        "<a href=\"https://colab.research.google.com/github/Leen-Alsharbaji/Hi-Kod-Data-Science-AI-Workshop-My-Notes-Projects/blob/main/Veri_yap%C4%B1lar%C4%B1_odev.ipynb\" target=\"_parent\"><img src=\"https://colab.research.google.com/assets/colab-badge.svg\" alt=\"Open In Colab\"/></a>"
      ]
    },
    {
      "cell_type": "markdown",
      "id": "032d81b2",
      "metadata": {
        "id": "032d81b2"
      },
      "source": [
        "# 1\n",
        "x = 3 ----> floata çevirelim. Çevirdikten sonra beri tipinide yazdıralım.\n",
        "\n",
        "y = 4.5 -----> integere çevirelim. Çevirdikten sonra beri tipinide yazdıralım.\n",
        "\n",
        "z = \"8\" -----> integera çevirelim. Çevirdikten sonra beri tipinide yazdıralım.\n",
        "\n",
        "a = \"12\" -----> floata çevirelim. Çevirdikten sonra beri tipinide yazdıralım.\n",
        "\n",
        "b = \"46.8\" ------> integera çevirelim. Çevirdikten sonra beri tipinide yazdıralım."
      ]
    },
    {
      "cell_type": "code",
      "execution_count": 12,
      "id": "f1b735c0",
      "metadata": {
        "colab": {
          "base_uri": "https://localhost:8080/"
        },
        "id": "f1b735c0",
        "outputId": "6e034fb4-a50a-4e0d-e25e-1000dde8e8bf"
      },
      "outputs": [
        {
          "output_type": "stream",
          "name": "stdout",
          "text": [
            "<class 'float'>\n",
            "<class 'int'>\n",
            "<class 'int'>\n",
            "<class 'float'>\n",
            "<class 'int'>\n"
          ]
        }
      ],
      "source": [
        "x=3\n",
        "\n",
        "y=4.5\n",
        "\n",
        "z=\"8\"\n",
        "\n",
        "a=\"12\"\n",
        "\n",
        "b=\"46.8\"\n",
        "\n",
        "print(type(float(x)))\n",
        "print(type(int(y)))\n",
        "print(type(int(z)))\n",
        "print(type(float(a)))\n",
        "print(type(int(float(b))))"
      ]
    },
    {
      "cell_type": "markdown",
      "id": "95509718",
      "metadata": {
        "id": "95509718"
      },
      "source": [
        "# 2\n",
        "İsimlerden oluşan üç değişkene yaş değerleri atanır. Belirlenen üç değişken birbiriyle karşılaştırma operatörleri ile karşılaştırılır. Bu karşılaştırmalara mantıksal operatörler de eklenir."
      ]
    },
    {
      "cell_type": "code",
      "execution_count": 16,
      "id": "50f77b4f",
      "metadata": {
        "colab": {
          "base_uri": "https://localhost:8080/"
        },
        "id": "50f77b4f",
        "outputId": "f55d6de6-5e0e-4790-8d88-20b6face4f89"
      },
      "outputs": [
        {
          "output_type": "stream",
          "name": "stdout",
          "text": [
            "True\n",
            "False\n",
            "False\n",
            "False\n",
            "True\n"
          ]
        }
      ],
      "source": [
        "a=30\n",
        "b=20\n",
        "c=23\n",
        "print(a>b and a>c)\n",
        "print(a<b or a<c)\n",
        "print(not(a>b and a>c))\n",
        "print(a==b)\n",
        "print(a!=b)"
      ]
    },
    {
      "cell_type": "markdown",
      "id": "a1a0eb92",
      "metadata": {
        "id": "a1a0eb92"
      },
      "source": [
        "# 3\n",
        "Kullanıcıdan iki değer girmesini istenir. Girilen değerlerin toplama, çıkarma, çarpma, bölme sonuçlarını yazdırılır."
      ]
    },
    {
      "cell_type": "code",
      "execution_count": 17,
      "id": "c361e45a",
      "metadata": {
        "colab": {
          "base_uri": "https://localhost:8080/"
        },
        "id": "c361e45a",
        "outputId": "f51c9024-7409-4145-9896-d55787ce9081"
      },
      "outputs": [
        {
          "output_type": "stream",
          "name": "stdout",
          "text": [
            "3020\n",
            "2030\n",
            "50\n",
            "10\n",
            "600\n",
            "1.5\n"
          ]
        }
      ],
      "source": [
        "input(a)\n",
        "input(b)\n",
        "print(a+b)\n",
        "print(a-b)\n",
        "print(a*b)\n",
        "print(a/b)"
      ]
    },
    {
      "cell_type": "markdown",
      "id": "060b0bea",
      "metadata": {
        "id": "060b0bea"
      },
      "source": [
        "# 4\n",
        "Kullanıcıdan isim, yaş, şehir ve meslek bilgilerini istenir ve cevaplarını yazdırılır."
      ]
    },
    {
      "cell_type": "code",
      "execution_count": 23,
      "id": "6f5dea59",
      "metadata": {
        "colab": {
          "base_uri": "https://localhost:8080/"
        },
        "id": "6f5dea59",
        "outputId": "aad88db8-cda9-4200-9491-a78b976d22be"
      },
      "outputs": [
        {
          "output_type": "stream",
          "name": "stdout",
          "text": [
            "isim lin\n",
            "yaş 22\n",
            "şehir istanbul\n",
            "meslek ogrenci\n",
            "lin\n",
            "22\n",
            "istanbul\n",
            "ogrenci\n"
          ]
        }
      ],
      "source": [
        "isim = input(\"isim \")\n",
        "yaş = input(\"yaş \")\n",
        "şehir = input(\"şehir \")\n",
        "meslek = input(\"meslek \")\n",
        "print(isim)\n",
        "print(yaş)\n",
        "print(şehir)\n",
        "print(meslek)"
      ]
    },
    {
      "cell_type": "markdown",
      "id": "55e1a34e",
      "metadata": {
        "id": "55e1a34e"
      },
      "source": [
        "# 5\n",
        "\"Hi-Kod Veri Bilimi Atölyesi\" ifadesini bir değişkene tanımlanır.\n",
        "\n",
        "\n",
        " 1. İfadedeki her bir kelimeyi (\"Hi-Kod\", \"Veri\", \"Bilimi\", \"Atölyesi\") değişken içinden seçilir.\n",
        " 2. İfadeyi hepsini büyük harf olacak hale çevrilir. (\"HI-KOD VERİ BİLİMİ ATÖLYESİ\")\n",
        " 3. İfadeyi hepsini büyük harf olacak hale çevrilir.(\"hi-kod veri bilimi atölyesi\")\n",
        "\n",
        "\"0123456789\" ifadesindeki yalnızca çift sayıları ve yalnızca tek sayıları seçilir. (\"02468\", \"13579\")"
      ]
    },
    {
      "cell_type": "code",
      "execution_count": 31,
      "id": "0fc1bc40",
      "metadata": {
        "colab": {
          "base_uri": "https://localhost:8080/"
        },
        "id": "0fc1bc40",
        "outputId": "0a23274b-6f49-4cf8-d260-9722352a2802"
      },
      "outputs": [
        {
          "output_type": "stream",
          "name": "stdout",
          "text": [
            "['Hi-Kod', 'Veri', 'Bilimi', 'Atölyesi']\n",
            "HI-KOD VERI BILIMI ATÖLYESI\n",
            "hi-kod veri bilimi atölyesi\n",
            "['0', '2', '4', '6', '8']\n",
            "['1', '3', '5', '7', '9']\n"
          ]
        }
      ],
      "source": [
        "a=\"Hi-Kod Veri Bilimi Atölyesi\"\n",
        "b=[]\n",
        "split=a.split()\n",
        "for i in split:\n",
        "    b.append(i)\n",
        "print(b)\n",
        "print(a.upper())\n",
        "print(a.lower())\n",
        "\n",
        "c=\"0123456789\"\n",
        "d=[]\n",
        "e=[]\n",
        "for i in c:\n",
        "    if int(i)%2==0:\n",
        "        d.append(i)\n",
        "    else:\n",
        "        e.append(i)\n",
        "print(d)\n",
        "print(e)\n"
      ]
    }
  ],
  "metadata": {
    "kernelspec": {
      "display_name": "Python 3 (ipykernel)",
      "language": "python",
      "name": "python3"
    },
    "language_info": {
      "codemirror_mode": {
        "name": "ipython",
        "version": 3
      },
      "file_extension": ".py",
      "mimetype": "text/x-python",
      "name": "python",
      "nbconvert_exporter": "python",
      "pygments_lexer": "ipython3",
      "version": "3.9.12"
    },
    "colab": {
      "provenance": [],
      "include_colab_link": true
    }
  },
  "nbformat": 4,
  "nbformat_minor": 5
}